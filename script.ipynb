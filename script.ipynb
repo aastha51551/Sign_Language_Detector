{
 "cells": [
  {
   "cell_type": "code",
   "execution_count": 1,
   "id": "5d675563",
   "metadata": {
    "scrolled": true
   },
   "outputs": [
    {
     "name": "stdout",
     "output_type": "stream",
     "text": [
      "Defaulting to user installation because normal site-packages is not writeable\n",
      "Requirement already satisfied: opencv-python in c:\\users\\hp\\appdata\\roaming\\python\\python310\\site-packages (4.8.1.78)\n",
      "Requirement already satisfied: numpy>=1.19.3 in c:\\programdata\\anaconda3\\lib\\site-packages (from opencv-python) (1.23.5)\n"
     ]
    }
   ],
   "source": [
    "!pip install opencv-python\n"
   ]
  },
  {
   "cell_type": "code",
   "execution_count": 2,
   "id": "1058579b",
   "metadata": {},
   "outputs": [],
   "source": [
    "import cv2 #openCV\n",
    "import os #for helping us with firefox\n",
    "import time # to get time to change hand position\n",
    "import uuid #to name or label our images"
   ]
  },
  {
   "cell_type": "code",
   "execution_count": 3,
   "id": "8e7ce1b9",
   "metadata": {},
   "outputs": [],
   "source": [
    "IMAGES_PATH ='Tensorflow/workspace/images/collectedimages'"
   ]
  },
  {
   "cell_type": "code",
   "execution_count": 4,
   "id": "e2aa68c0",
   "metadata": {},
   "outputs": [],
   "source": [
    "labels = ['hello','thanks','yes','no','I love you']\n",
    "number_imgs=15"
   ]
  },
  {
   "cell_type": "code",
   "execution_count": 5,
   "id": "891e2e65",
   "metadata": {},
   "outputs": [
    {
     "name": "stdout",
     "output_type": "stream",
     "text": [
      "Device 0 is available.\n",
      "Device 1 is not available.\n",
      "Device 2 is not available.\n",
      "Device 3 is not available.\n",
      "Device 4 is not available.\n",
      "Device 5 is not available.\n",
      "Device 6 is not available.\n",
      "Device 7 is not available.\n",
      "Device 8 is not available.\n",
      "Device 9 is not available.\n"
     ]
    }
   ],
   "source": [
    "import cv2\n",
    "\n",
    "for i in range(10):  # Try device numbers from 0 to 9\n",
    "    cap = cv2.VideoCapture(i)\n",
    "    if not cap.isOpened():\n",
    "        print(f\"Device {i} is not available.\")\n",
    "    else:\n",
    "        print(f\"Device {i} is available.\")\n",
    "        cap.release()\n"
   ]
  },
  {
   "cell_type": "code",
   "execution_count": null,
   "id": "ababb7ad",
   "metadata": {},
   "outputs": [
    {
     "name": "stdout",
     "output_type": "stream",
     "text": [
      "Collecting images for hello\n"
     ]
    }
   ],
   "source": [
    "for label in labels:\n",
    "    img_folder_path = os.path.join(IMAGES_PATH, label)\n",
    "    os.makedirs(img_folder_path, exist_ok=True)\n",
    "    cap = cv2.VideoCapture(0)\n",
    "    print('Collecting images for {}'.format(label))\n",
    "    time.sleep(5)\n",
    "    for imgnum in range(number_imgs):\n",
    "        ret, frame = cap.read()\n",
    "        imgname = os.path.join(IMAGES_PATH, label, '{}.jpg'.format(str(uuid.uuid1())))\n",
    "        cv2.imwrite(imgname,frame)\n",
    "        cv2.imshow('frame', frame)\n",
    "        time.sleep(2)\n",
    "        \n",
    "        if cv2.waitKey(1) & 0xFF == ord('q'):\n",
    "            break\n",
    "    cap.release()"
   ]
  },
  {
   "cell_type": "code",
   "execution_count": null,
   "id": "d340f7b4",
   "metadata": {},
   "outputs": [],
   "source": []
  }
 ],
 "metadata": {
  "kernelspec": {
   "display_name": "Python 3 (ipykernel)",
   "language": "python",
   "name": "python3"
  },
  "language_info": {
   "codemirror_mode": {
    "name": "ipython",
    "version": 3
   },
   "file_extension": ".py",
   "mimetype": "text/x-python",
   "name": "python",
   "nbconvert_exporter": "python",
   "pygments_lexer": "ipython3",
   "version": "3.10.9"
  }
 },
 "nbformat": 4,
 "nbformat_minor": 5
}
